{
 "cells": [
  {
   "cell_type": "markdown",
   "id": "423f0449",
   "metadata": {},
   "source": [
    "# Featureform MLOps Podcast Chatbot\n",
    "\n",
    "This is an example of building a chatbot that contextualized with statements from the MLOps Weekly Podcast\n",
    "\n",
    "## Requirements\n",
    "\n",
    "* Python 3.7+\n",
    "* `.env` file with one or both sets of credentials (visit [Pinecone](https://www.pinecone.io/) and/or [Weaviate](https://weaviate.io/) for instructions on creating an account and getting credentials):\n",
    "```\n",
    "# Pinecone\n",
    "\n",
    "PINECONE_PROJECT_ID=\n",
    "PINECONE_ENVIRONMENT=\n",
    "PINECONE_API_KEY=\n",
    "\n",
    "# Weaviate\n",
    "\n",
    "WEAVIATE_URL=\n",
    "WEAVIATE_API_KEY=\n",
    "\n",
    "# OpenAI\n",
    "\n",
    "You'll need to set your OpenAI key towards the bottom of this example, you'll also want to install the openai PyPI library using pip.\n",
    "```\n",
    "* [`python-dotenv 1.0.0`](https://pypi.org/project/python-dotenv/)\n",
    "* [Topic Labeled News Dataset](https://www.kaggle.com/datasets/kotartemiy/topic-labeled-news-dataset)\n",
    "* Featureform installed:\n",
    "```shell\n",
    "pip install featureform\n",
    "```\n",
    "* Hugging Face [`sentence-transformers`](https://huggingface.co/sentence-transformers) installed:\n",
    "```\n",
    "pip install sentence-transformers\n",
    "```"
   ]
  },
  {
   "cell_type": "markdown",
   "id": "56bf4382",
   "metadata": {},
   "source": [
    "## Step  1. Register Source\n",
    "\n",
    "`data/files` is a directory of CSV files, which use `;` as a delimiter and hold transcripts of recent episodes of the MLOps podcast. Each row is a comment made by a speaker and has the following columns:\n",
    "\n",
    "* Speaker\n",
    "* Start time\n",
    "* End time\n",
    "* Duration\n",
    "* Text\n",
    "* filename\n",
    "\n",
    "We'll register the entire directory at once."
   ]
  },
  {
   "cell_type": "code",
   "execution_count": 1,
   "id": "845783c1",
   "metadata": {},
   "outputs": [
    {
     "name": "stderr",
     "output_type": "stream",
     "text": [
      "TqdmWarning: IProgress not found. Please update jupyter and ipywidgets. See https://ipywidgets.readthedocs.io/en/stable/user_install.html\n"
     ]
    }
   ],
   "source": [
    "import featureform as ff\n",
    "from featureform import local\n",
    "\n",
    "client = ff.Client(local=True)"
   ]
  },
  {
   "cell_type": "markdown",
   "id": "f5a85622",
   "metadata": {},
   "source": [
    "**NOTE:** We'll create an instance of the client to register resources as we define them."
   ]
  },
  {
   "cell_type": "code",
   "execution_count": 2,
   "id": "288939b7",
   "metadata": {},
   "outputs": [],
   "source": [
    "episodes = local.register_directory(\n",
    "    name=\"mlops-episodes\",\n",
    "    path=\"data/files\",\n",
    "    description=\"Transcripts from recent MLOps episodes\",\n",
    ")"
   ]
  },
  {
   "cell_type": "code",
   "execution_count": 3,
   "id": "88a1d1e3",
   "metadata": {},
   "outputs": [
    {
     "name": "stdout",
     "output_type": "stream",
     "text": [
      "Applying Run: quizzical_wiles\n",
      "Creating user default_user \n",
      "Creating provider local-mode \n",
      "Creating source mlops-episodes  quizzical_wiles\n"
     ]
    },
    {
     "data": {
      "text/html": [
       "<div>\n",
       "<style scoped>\n",
       "    .dataframe tbody tr th:only-of-type {\n",
       "        vertical-align: middle;\n",
       "    }\n",
       "\n",
       "    .dataframe tbody tr th {\n",
       "        vertical-align: top;\n",
       "    }\n",
       "\n",
       "    .dataframe thead th {\n",
       "        text-align: right;\n",
       "    }\n",
       "</style>\n",
       "<table border=\"1\" class=\"dataframe\">\n",
       "  <thead>\n",
       "    <tr style=\"text-align: right;\">\n",
       "      <th></th>\n",
       "      <th>filename</th>\n",
       "      <th>body</th>\n",
       "    </tr>\n",
       "  </thead>\n",
       "  <tbody>\n",
       "    <tr>\n",
       "      <th>0</th>\n",
       "      <td>MLOps Weekly - 04-03-2023.mp3.csv</td>\n",
       "      <td>﻿Number;Speaker;Start time;End time;Duration;T...</td>\n",
       "    </tr>\n",
       "    <tr>\n",
       "      <th>1</th>\n",
       "      <td>MLOps Weekly - Stefan.mp3 (2).csv</td>\n",
       "      <td>﻿Number;Speaker;Start time;End time;Duration;T...</td>\n",
       "    </tr>\n",
       "    <tr>\n",
       "      <th>2</th>\n",
       "      <td>MLOps Weekly - Atindriyo Sanyal (2).mp3.csv</td>\n",
       "      <td>﻿Number;Speaker;Start time;End time;Duration;T...</td>\n",
       "    </tr>\n",
       "    <tr>\n",
       "      <th>3</th>\n",
       "      <td>MLOps Weekly - 07-27-2022 V2.mp3.csv</td>\n",
       "      <td>﻿Number;Speaker;Start time;End time;Duration;T...</td>\n",
       "    </tr>\n",
       "    <tr>\n",
       "      <th>4</th>\n",
       "      <td>MLOps Weekly - David Stein.mp3.csv</td>\n",
       "      <td>﻿Number;Speaker;Start time;End time;Duration;T...</td>\n",
       "    </tr>\n",
       "    <tr>\n",
       "      <th>5</th>\n",
       "      <td>MLOps Weekly - Piero.mp3.csv</td>\n",
       "      <td>﻿Number;Speaker;Start time;End time;Duration;T...</td>\n",
       "    </tr>\n",
       "    <tr>\n",
       "      <th>6</th>\n",
       "      <td>MLOps Weekly - Stefan.mp3.csv</td>\n",
       "      <td>﻿Number;Speaker;Start time;End time;Duration;T...</td>\n",
       "    </tr>\n",
       "    <tr>\n",
       "      <th>7</th>\n",
       "      <td>MLOps Weekly - Liran Hason.mp3.csv</td>\n",
       "      <td>﻿Number;Speaker;Start time;End time;Duration;T...</td>\n",
       "    </tr>\n",
       "    <tr>\n",
       "      <th>8</th>\n",
       "      <td>MLOps Weekly - 02-02-2022.mp3.csv</td>\n",
       "      <td>﻿Number;Speaker;Start time;End time;Duration;T...</td>\n",
       "    </tr>\n",
       "    <tr>\n",
       "      <th>9</th>\n",
       "      <td>MLOps Weekly - Doris.mp3.csv</td>\n",
       "      <td>﻿Number;Speaker;Start time;End time;Duration;T...</td>\n",
       "    </tr>\n",
       "    <tr>\n",
       "      <th>10</th>\n",
       "      <td>MLOps Weekly - 07-22-2022.mp3.csv</td>\n",
       "      <td>﻿Number;Speaker;Start time;End time;Duration;T...</td>\n",
       "    </tr>\n",
       "    <tr>\n",
       "      <th>11</th>\n",
       "      <td>MLOps Weekly - Bob.mp3.csv</td>\n",
       "      <td>﻿Number;Speaker;Start time;End time;Duration;T...</td>\n",
       "    </tr>\n",
       "    <tr>\n",
       "      <th>12</th>\n",
       "      <td>MLOps Weekly - Josh Wills.mp3.csv</td>\n",
       "      <td>﻿Number;Speaker;Start time;End time;Duration;T...</td>\n",
       "    </tr>\n",
       "    <tr>\n",
       "      <th>13</th>\n",
       "      <td>MLOps Weekly - Sam.mp3.csv</td>\n",
       "      <td>﻿Number;Speaker;Start time;End time;Duration;T...</td>\n",
       "    </tr>\n",
       "    <tr>\n",
       "      <th>14</th>\n",
       "      <td>MLOps Weekly - 02-13-2023.mp3.csv</td>\n",
       "      <td>﻿Number;Speaker;Start time;End time;Duration;T...</td>\n",
       "    </tr>\n",
       "    <tr>\n",
       "      <th>15</th>\n",
       "      <td>MLOps Weekly - Chris White.mp3.csv</td>\n",
       "      <td>﻿Number;Speaker;Start time;End time;Duration;T...</td>\n",
       "    </tr>\n",
       "    <tr>\n",
       "      <th>16</th>\n",
       "      <td>MLOps Weekly - Jacopo.mp3.csv</td>\n",
       "      <td>﻿Number;Speaker;Start time;End time;Duration;T...</td>\n",
       "    </tr>\n",
       "  </tbody>\n",
       "</table>\n",
       "</div>"
      ],
      "text/plain": [
       "                                       filename  \\\n",
       "0             MLOps Weekly - 04-03-2023.mp3.csv   \n",
       "1             MLOps Weekly - Stefan.mp3 (2).csv   \n",
       "2   MLOps Weekly - Atindriyo Sanyal (2).mp3.csv   \n",
       "3          MLOps Weekly - 07-27-2022 V2.mp3.csv   \n",
       "4            MLOps Weekly - David Stein.mp3.csv   \n",
       "5                  MLOps Weekly - Piero.mp3.csv   \n",
       "6                 MLOps Weekly - Stefan.mp3.csv   \n",
       "7            MLOps Weekly - Liran Hason.mp3.csv   \n",
       "8             MLOps Weekly - 02-02-2022.mp3.csv   \n",
       "9                  MLOps Weekly - Doris.mp3.csv   \n",
       "10            MLOps Weekly - 07-22-2022.mp3.csv   \n",
       "11                   MLOps Weekly - Bob.mp3.csv   \n",
       "12            MLOps Weekly - Josh Wills.mp3.csv   \n",
       "13                   MLOps Weekly - Sam.mp3.csv   \n",
       "14            MLOps Weekly - 02-13-2023.mp3.csv   \n",
       "15           MLOps Weekly - Chris White.mp3.csv   \n",
       "16                MLOps Weekly - Jacopo.mp3.csv   \n",
       "\n",
       "                                                 body  \n",
       "0   ﻿Number;Speaker;Start time;End time;Duration;T...  \n",
       "1   ﻿Number;Speaker;Start time;End time;Duration;T...  \n",
       "2   ﻿Number;Speaker;Start time;End time;Duration;T...  \n",
       "3   ﻿Number;Speaker;Start time;End time;Duration;T...  \n",
       "4   ﻿Number;Speaker;Start time;End time;Duration;T...  \n",
       "5   ﻿Number;Speaker;Start time;End time;Duration;T...  \n",
       "6   ﻿Number;Speaker;Start time;End time;Duration;T...  \n",
       "7   ﻿Number;Speaker;Start time;End time;Duration;T...  \n",
       "8   ﻿Number;Speaker;Start time;End time;Duration;T...  \n",
       "9   ﻿Number;Speaker;Start time;End time;Duration;T...  \n",
       "10  ﻿Number;Speaker;Start time;End time;Duration;T...  \n",
       "11  ﻿Number;Speaker;Start time;End time;Duration;T...  \n",
       "12  ﻿Number;Speaker;Start time;End time;Duration;T...  \n",
       "13  ﻿Number;Speaker;Start time;End time;Duration;T...  \n",
       "14  ﻿Number;Speaker;Start time;End time;Duration;T...  \n",
       "15  ﻿Number;Speaker;Start time;End time;Duration;T...  \n",
       "16  ﻿Number;Speaker;Start time;End time;Duration;T...  "
      ]
     },
     "execution_count": 3,
     "metadata": {},
     "output_type": "execute_result"
    }
   ],
   "source": [
    "client.dataframe(episodes)"
   ]
  },
  {
   "cell_type": "code",
   "execution_count": 4,
   "id": "dcdb0f5a",
   "metadata": {},
   "outputs": [
    {
     "name": "stdout",
     "output_type": "stream",
     "text": [
      "DeprecationWarning: pkg_resources is deprecated as an API\n",
      "\u001b[31m\u001b[1mWARNING: This is a development server. Do not use it in a production deployment. Use a production WSGI server instead.\u001b[0m\n",
      " * Serving Flask app 'featureform.cli'\n",
      " * Debug mode: off\n",
      "Address already in use\n",
      "Port 3000 is in use by another program. Either identify and stop that program, or start the server with a different port.\n"
     ]
    }
   ],
   "source": [
    "!featureform dash"
   ]
  },
  {
   "cell_type": "markdown",
   "id": "bec0f7fb",
   "metadata": {},
   "source": [
    "## Step 2. Transform Transcripts\n",
    "\n",
    "When registering a directory, files are converted into a table with columns `\"filename\"` and `\"body\"`. This is helpful for avoiding the situation where we need to register many files; however, in our case, we'll need to process this table to get it ready for vectorization."
   ]
  },
  {
   "cell_type": "code",
   "execution_count": 5,
   "id": "4f8b5f2d",
   "metadata": {},
   "outputs": [],
   "source": [
    "@local.df_transformation(inputs=[episodes])\n",
    "def process_episode_files(dir_df):\n",
    "    from io import StringIO\n",
    "    import pandas as pd\n",
    "\n",
    "    episode_dfs = []\n",
    "    for i, row in dir_df.iterrows():\n",
    "        csv_str = StringIO(row[1])\n",
    "        r_df = pd.read_csv(csv_str, sep=\";\")\n",
    "        r_df[\"filename\"] = row[0]\n",
    "        episode_dfs.append(r_df)\n",
    "\n",
    "    return pd.concat(episode_dfs)"
   ]
  },
  {
   "cell_type": "markdown",
   "id": "395f7c23",
   "metadata": {},
   "source": [
    "We can verify this worked as we expected by serving this source as a dataframe and inspecting the results."
   ]
  },
  {
   "cell_type": "code",
   "execution_count": 6,
   "id": "a67f4939",
   "metadata": {},
   "outputs": [
    {
     "name": "stdout",
     "output_type": "stream",
     "text": [
      "Applying Run: quizzical_wiles\n",
      "Creating provider local-mode \n",
      "Creating source process_episode_files  quizzical_wiles\n"
     ]
    },
    {
     "data": {
      "text/html": [
       "<div>\n",
       "<style scoped>\n",
       "    .dataframe tbody tr th:only-of-type {\n",
       "        vertical-align: middle;\n",
       "    }\n",
       "\n",
       "    .dataframe tbody tr th {\n",
       "        vertical-align: top;\n",
       "    }\n",
       "\n",
       "    .dataframe thead th {\n",
       "        text-align: right;\n",
       "    }\n",
       "</style>\n",
       "<table border=\"1\" class=\"dataframe\">\n",
       "  <thead>\n",
       "    <tr style=\"text-align: right;\">\n",
       "      <th></th>\n",
       "      <th>Number</th>\n",
       "      <th>Speaker</th>\n",
       "      <th>Start time</th>\n",
       "      <th>End time</th>\n",
       "      <th>Duration</th>\n",
       "      <th>Text</th>\n",
       "      <th>filename</th>\n",
       "    </tr>\n",
       "  </thead>\n",
       "  <tbody>\n",
       "    <tr>\n",
       "      <th>0</th>\n",
       "      <td>0</td>\n",
       "      <td>Simba Khadder</td>\n",
       "      <td>00:00:06.170</td>\n",
       "      <td>00:00:22.730</td>\n",
       "      <td>00:00:16.560</td>\n",
       "      <td>Hey everyone. Simba Khadder here and you are l...</td>\n",
       "      <td>MLOps Weekly - 04-03-2023.mp3.csv</td>\n",
       "    </tr>\n",
       "    <tr>\n",
       "      <th>1</th>\n",
       "      <td>1</td>\n",
       "      <td>Mikiko Bazeley</td>\n",
       "      <td>00:00:22.930</td>\n",
       "      <td>00:00:51.720</td>\n",
       "      <td>00:00:28.790</td>\n",
       "      <td>Hey, everyone, my name is Mikiko Bazeley and I...</td>\n",
       "      <td>MLOps Weekly - 04-03-2023.mp3.csv</td>\n",
       "    </tr>\n",
       "    <tr>\n",
       "      <th>2</th>\n",
       "      <td>2</td>\n",
       "      <td>Mikiko Bazeley</td>\n",
       "      <td>00:00:51.780</td>\n",
       "      <td>00:01:16.460</td>\n",
       "      <td>00:00:24.680</td>\n",
       "      <td>I've also worked in a ton of different industr...</td>\n",
       "      <td>MLOps Weekly - 04-03-2023.mp3.csv</td>\n",
       "    </tr>\n",
       "    <tr>\n",
       "      <th>3</th>\n",
       "      <td>3</td>\n",
       "      <td>Simba Khadder</td>\n",
       "      <td>00:01:16.610</td>\n",
       "      <td>00:01:43.330</td>\n",
       "      <td>00:00:26.720</td>\n",
       "      <td>I know we've been talking about doing this for...</td>\n",
       "      <td>MLOps Weekly - 04-03-2023.mp3.csv</td>\n",
       "    </tr>\n",
       "    <tr>\n",
       "      <th>4</th>\n",
       "      <td>4</td>\n",
       "      <td>Mikiko Bazeley</td>\n",
       "      <td>00:01:43.430</td>\n",
       "      <td>00:01:58.780</td>\n",
       "      <td>00:00:15.350</td>\n",
       "      <td>Yeah, it's funny because when I've talked to o...</td>\n",
       "      <td>MLOps Weekly - 04-03-2023.mp3.csv</td>\n",
       "    </tr>\n",
       "  </tbody>\n",
       "</table>\n",
       "</div>"
      ],
      "text/plain": [
       "   Number         Speaker    Start time      End time      Duration  \\\n",
       "0       0   Simba Khadder  00:00:06.170  00:00:22.730  00:00:16.560   \n",
       "1       1  Mikiko Bazeley  00:00:22.930  00:00:51.720  00:00:28.790   \n",
       "2       2  Mikiko Bazeley  00:00:51.780  00:01:16.460  00:00:24.680   \n",
       "3       3   Simba Khadder  00:01:16.610  00:01:43.330  00:00:26.720   \n",
       "4       4  Mikiko Bazeley  00:01:43.430  00:01:58.780  00:00:15.350   \n",
       "\n",
       "                                                Text  \\\n",
       "0  Hey everyone. Simba Khadder here and you are l...   \n",
       "1  Hey, everyone, my name is Mikiko Bazeley and I...   \n",
       "2  I've also worked in a ton of different industr...   \n",
       "3  I know we've been talking about doing this for...   \n",
       "4  Yeah, it's funny because when I've talked to o...   \n",
       "\n",
       "                            filename  \n",
       "0  MLOps Weekly - 04-03-2023.mp3.csv  \n",
       "1  MLOps Weekly - 04-03-2023.mp3.csv  \n",
       "2  MLOps Weekly - 04-03-2023.mp3.csv  \n",
       "3  MLOps Weekly - 04-03-2023.mp3.csv  \n",
       "4  MLOps Weekly - 04-03-2023.mp3.csv  "
      ]
     },
     "execution_count": 6,
     "metadata": {},
     "output_type": "execute_result"
    }
   ],
   "source": [
    "df = client.dataframe(process_episode_files)\n",
    "\n",
    "df.head()"
   ]
  },
  {
   "cell_type": "markdown",
   "id": "12710fa4",
   "metadata": {},
   "source": [
    "## Step 3. Entity ID Transformation\n",
    "\n",
    "For our purposes, we'll need a unique identifier for each speakers' comments, so we'll choose `\"Speaker\"`, `\"Start time\"` and `\"filename\"` to create a new column, `\"PK\"`."
   ]
  },
  {
   "cell_type": "code",
   "execution_count": 7,
   "id": "abbb6305",
   "metadata": {},
   "outputs": [],
   "source": [
    "@local.df_transformation(inputs=[process_episode_files])\n",
    "def speaker_primary_key(episodes_df):\n",
    "    episodes_df[\"PK\"] = episodes_df.apply(lambda row: f\"{row['Speaker']}_{row['Start time']}_{row['filename']}\", axis=1)\n",
    "    \n",
    "    return episodes_df"
   ]
  },
  {
   "cell_type": "code",
   "execution_count": 8,
   "id": "0b0e1ab6",
   "metadata": {},
   "outputs": [
    {
     "name": "stdout",
     "output_type": "stream",
     "text": [
      "Applying Run: quizzical_wiles\n",
      "Creating provider local-mode \n",
      "Creating source speaker_primary_key  quizzical_wiles\n"
     ]
    },
    {
     "data": {
      "text/html": [
       "<div>\n",
       "<style scoped>\n",
       "    .dataframe tbody tr th:only-of-type {\n",
       "        vertical-align: middle;\n",
       "    }\n",
       "\n",
       "    .dataframe tbody tr th {\n",
       "        vertical-align: top;\n",
       "    }\n",
       "\n",
       "    .dataframe thead th {\n",
       "        text-align: right;\n",
       "    }\n",
       "</style>\n",
       "<table border=\"1\" class=\"dataframe\">\n",
       "  <thead>\n",
       "    <tr style=\"text-align: right;\">\n",
       "      <th></th>\n",
       "      <th>Number</th>\n",
       "      <th>Speaker</th>\n",
       "      <th>Start time</th>\n",
       "      <th>End time</th>\n",
       "      <th>Duration</th>\n",
       "      <th>Text</th>\n",
       "      <th>filename</th>\n",
       "      <th>PK</th>\n",
       "    </tr>\n",
       "  </thead>\n",
       "  <tbody>\n",
       "    <tr>\n",
       "      <th>0</th>\n",
       "      <td>0</td>\n",
       "      <td>Simba Khadder</td>\n",
       "      <td>00:00:06.170</td>\n",
       "      <td>00:00:22.730</td>\n",
       "      <td>00:00:16.560</td>\n",
       "      <td>Hey everyone. Simba Khadder here and you are l...</td>\n",
       "      <td>MLOps Weekly - 04-03-2023.mp3.csv</td>\n",
       "      <td>Simba Khadder_00:00:06.170_MLOps Weekly - 04-0...</td>\n",
       "    </tr>\n",
       "    <tr>\n",
       "      <th>1</th>\n",
       "      <td>1</td>\n",
       "      <td>Mikiko Bazeley</td>\n",
       "      <td>00:00:22.930</td>\n",
       "      <td>00:00:51.720</td>\n",
       "      <td>00:00:28.790</td>\n",
       "      <td>Hey, everyone, my name is Mikiko Bazeley and I...</td>\n",
       "      <td>MLOps Weekly - 04-03-2023.mp3.csv</td>\n",
       "      <td>Mikiko Bazeley_00:00:22.930_MLOps Weekly - 04-...</td>\n",
       "    </tr>\n",
       "    <tr>\n",
       "      <th>2</th>\n",
       "      <td>2</td>\n",
       "      <td>Mikiko Bazeley</td>\n",
       "      <td>00:00:51.780</td>\n",
       "      <td>00:01:16.460</td>\n",
       "      <td>00:00:24.680</td>\n",
       "      <td>I've also worked in a ton of different industr...</td>\n",
       "      <td>MLOps Weekly - 04-03-2023.mp3.csv</td>\n",
       "      <td>Mikiko Bazeley_00:00:51.780_MLOps Weekly - 04-...</td>\n",
       "    </tr>\n",
       "    <tr>\n",
       "      <th>3</th>\n",
       "      <td>3</td>\n",
       "      <td>Simba Khadder</td>\n",
       "      <td>00:01:16.610</td>\n",
       "      <td>00:01:43.330</td>\n",
       "      <td>00:00:26.720</td>\n",
       "      <td>I know we've been talking about doing this for...</td>\n",
       "      <td>MLOps Weekly - 04-03-2023.mp3.csv</td>\n",
       "      <td>Simba Khadder_00:01:16.610_MLOps Weekly - 04-0...</td>\n",
       "    </tr>\n",
       "    <tr>\n",
       "      <th>4</th>\n",
       "      <td>4</td>\n",
       "      <td>Mikiko Bazeley</td>\n",
       "      <td>00:01:43.430</td>\n",
       "      <td>00:01:58.780</td>\n",
       "      <td>00:00:15.350</td>\n",
       "      <td>Yeah, it's funny because when I've talked to o...</td>\n",
       "      <td>MLOps Weekly - 04-03-2023.mp3.csv</td>\n",
       "      <td>Mikiko Bazeley_00:01:43.430_MLOps Weekly - 04-...</td>\n",
       "    </tr>\n",
       "  </tbody>\n",
       "</table>\n",
       "</div>"
      ],
      "text/plain": [
       "   Number         Speaker    Start time      End time      Duration  \\\n",
       "0       0   Simba Khadder  00:00:06.170  00:00:22.730  00:00:16.560   \n",
       "1       1  Mikiko Bazeley  00:00:22.930  00:00:51.720  00:00:28.790   \n",
       "2       2  Mikiko Bazeley  00:00:51.780  00:01:16.460  00:00:24.680   \n",
       "3       3   Simba Khadder  00:01:16.610  00:01:43.330  00:00:26.720   \n",
       "4       4  Mikiko Bazeley  00:01:43.430  00:01:58.780  00:00:15.350   \n",
       "\n",
       "                                                Text  \\\n",
       "0  Hey everyone. Simba Khadder here and you are l...   \n",
       "1  Hey, everyone, my name is Mikiko Bazeley and I...   \n",
       "2  I've also worked in a ton of different industr...   \n",
       "3  I know we've been talking about doing this for...   \n",
       "4  Yeah, it's funny because when I've talked to o...   \n",
       "\n",
       "                            filename  \\\n",
       "0  MLOps Weekly - 04-03-2023.mp3.csv   \n",
       "1  MLOps Weekly - 04-03-2023.mp3.csv   \n",
       "2  MLOps Weekly - 04-03-2023.mp3.csv   \n",
       "3  MLOps Weekly - 04-03-2023.mp3.csv   \n",
       "4  MLOps Weekly - 04-03-2023.mp3.csv   \n",
       "\n",
       "                                                  PK  \n",
       "0  Simba Khadder_00:00:06.170_MLOps Weekly - 04-0...  \n",
       "1  Mikiko Bazeley_00:00:22.930_MLOps Weekly - 04-...  \n",
       "2  Mikiko Bazeley_00:00:51.780_MLOps Weekly - 04-...  \n",
       "3  Simba Khadder_00:01:16.610_MLOps Weekly - 04-0...  \n",
       "4  Mikiko Bazeley_00:01:43.430_MLOps Weekly - 04-...  "
      ]
     },
     "execution_count": 8,
     "metadata": {},
     "output_type": "execute_result"
    }
   ],
   "source": [
    "df = client.dataframe(speaker_primary_key)\n",
    "\n",
    "df.head()"
   ]
  },
  {
   "cell_type": "markdown",
   "id": "573c9e07",
   "metadata": {},
   "source": [
    "## Step 4. Embeddings Transformation\n",
    "\n",
    "We'll use [`all-MiniLM-L6-v2`](https://huggingface.co/sentence-transformers/all-MiniLM-L6-v2) to create embeddings for each speakers' comments. When we register an entity and associate a feature with this entity, this transformation will be materialized and the embeddings will be persisted in a Pinecone index."
   ]
  },
  {
   "cell_type": "code",
   "execution_count": 9,
   "id": "c72eb2e3",
   "metadata": {},
   "outputs": [],
   "source": [
    "@local.df_transformation(inputs=[speaker_primary_key])\n",
    "def vectorize_comments(episodes_df):\n",
    "    from sentence_transformers import SentenceTransformer\n",
    "\n",
    "    model = SentenceTransformer(\"all-MiniLM-L6-v2\")\n",
    "    embeddings = model.encode(episodes_df[\"Text\"].tolist())\n",
    "    episodes_df[\"Vector\"] = embeddings.tolist()\n",
    "    \n",
    "    return episodes_df"
   ]
  },
  {
   "cell_type": "markdown",
   "id": "04bb6af7",
   "metadata": {},
   "source": [
    "## Step 5. Register Pinecone\n",
    "\n",
    "We'll be using Pinecone for this example, but you can also choose to use Weaviate.\n",
    "\n",
    "This step assumes you have a `.env` file with your Pinecone credentials."
   ]
  },
  {
   "cell_type": "code",
   "execution_count": 59,
   "id": "c6c5471c",
   "metadata": {},
   "outputs": [
    {
     "data": {
      "text/plain": [
       "True"
      ]
     },
     "execution_count": 59,
     "metadata": {},
     "output_type": "execute_result"
    }
   ],
   "source": [
    "import dotenv\n",
    "import os\n",
    "\n",
    "dotenv.load_dotenv(\".env\")\n",
    "\n",
    "pinecone = ff.register_pinecone(\n",
    "    name=\"pinecone\",\n",
    "    project_id=os.getenv(\"PINECONE_PROJECT_ID\", \"\"),\n",
    "    environment=os.getenv(\"PINECONE_ENVIRONMENT\", \"\"),\n",
    "    api_key=os.getenv(\"PINECONE_API_KEY\", \"\"),\n",
    ")"
   ]
  },
  {
   "cell_type": "code",
   "execution_count": 11,
   "id": "191b655b",
   "metadata": {},
   "outputs": [
    {
     "name": "stdout",
     "output_type": "stream",
     "text": [
      "Applying Run: quizzical_wiles\n",
      "Creating provider local-mode \n",
      "Creating provider pinecone \n",
      "Creating source vectorize_comments  quizzical_wiles\n"
     ]
    }
   ],
   "source": [
    "client.apply()"
   ]
  },
  {
   "cell_type": "markdown",
   "id": "b4f0308b",
   "metadata": {},
   "source": [
    "## Step 6. Register Entity, Features, and Embeddings and write them to Vector DB.\n",
    "\n",
    "We'll now register an entity and a feature, which will kick off the materialization process.\n",
    "\n",
    "**NOTE:**\n",
    "This may take some time to complete. See the progress bar for status."
   ]
  },
  {
   "cell_type": "code",
   "execution_count": 12,
   "id": "eef327c8",
   "metadata": {},
   "outputs": [],
   "source": [
    "@ff.entity\n",
    "class Speaker:\n",
    "    comment_embeddings = ff.Embedding(\n",
    "        vectorize_comments[[\"PK\", \"Vector\"]],\n",
    "        dims=384,\n",
    "        vector_db=pinecone,\n",
    "        description=\"Embeddings created from speakers' comments in episodes\",\n",
    "        variant=\"v2\"\n",
    "    )\n",
    "    comments = ff.Feature(\n",
    "        speaker_primary_key[[\"PK\", \"Text\"]],\n",
    "        type=ff.String,\n",
    "        description=\"Speakers' original comments\",\n",
    "        variant=\"v2\"\n",
    "    )"
   ]
  },
  {
   "cell_type": "code",
   "execution_count": 13,
   "id": "d8300b5f",
   "metadata": {},
   "outputs": [
    {
     "name": "stdout",
     "output_type": "stream",
     "text": [
      "Requirement already satisfied: pinecone-client in /opt/homebrew/lib/python3.11/site-packages (2.2.2)\n",
      "Requirement already satisfied: requests>=2.19.0 in /opt/homebrew/lib/python3.11/site-packages (from pinecone-client) (2.31.0)\n",
      "Requirement already satisfied: pyyaml>=5.4 in /opt/homebrew/lib/python3.11/site-packages (from pinecone-client) (6.0)\n",
      "Requirement already satisfied: loguru>=0.5.0 in /opt/homebrew/lib/python3.11/site-packages (from pinecone-client) (0.7.0)\n",
      "Requirement already satisfied: typing-extensions>=3.7.4 in /opt/homebrew/lib/python3.11/site-packages (from pinecone-client) (4.6.3)\n",
      "Requirement already satisfied: dnspython>=2.0.0 in /opt/homebrew/lib/python3.11/site-packages (from pinecone-client) (2.3.0)\n",
      "Requirement already satisfied: python-dateutil>=2.5.3 in /opt/homebrew/lib/python3.11/site-packages (from pinecone-client) (2.8.2)\n",
      "Requirement already satisfied: urllib3>=1.21.1 in /opt/homebrew/lib/python3.11/site-packages (from pinecone-client) (2.0.3)\n",
      "Requirement already satisfied: tqdm>=4.64.1 in /opt/homebrew/lib/python3.11/site-packages (from pinecone-client) (4.65.0)\n",
      "Requirement already satisfied: numpy>=1.22.0 in /opt/homebrew/lib/python3.11/site-packages (from pinecone-client) (1.24.2)\n",
      "Requirement already satisfied: six>=1.5 in /opt/homebrew/lib/python3.11/site-packages (from python-dateutil>=2.5.3->pinecone-client) (1.16.0)\n",
      "Requirement already satisfied: charset-normalizer<4,>=2 in /opt/homebrew/lib/python3.11/site-packages (from requests>=2.19.0->pinecone-client) (3.1.0)\n",
      "Requirement already satisfied: idna<4,>=2.5 in /opt/homebrew/lib/python3.11/site-packages (from requests>=2.19.0->pinecone-client) (3.4)\n",
      "Requirement already satisfied: certifi>=2017.4.17 in /opt/homebrew/lib/python3.11/site-packages (from requests>=2.19.0->pinecone-client) (2023.5.7)\n"
     ]
    }
   ],
   "source": [
    "!pip install pinecone-client"
   ]
  },
  {
   "cell_type": "code",
   "execution_count": 14,
   "id": "71a1b0f8",
   "metadata": {},
   "outputs": [
    {
     "name": "stdout",
     "output_type": "stream",
     "text": [
      "Applying Run: quizzical_wiles\n",
      "Creating provider local-mode \n",
      "Creating entity speaker \n",
      "Creating feature comment_embeddings  v2\n",
      "Creating feature comments  v2\n"
     ]
    },
    {
     "name": "stderr",
     "output_type": "stream",
     "text": [
      "DeprecationWarning: HTTPResponse.getheaders() is deprecated and will be removed in urllib3 v2.1.0. Instead access HTTPResponse.headers directly.\n",
      "SettingWithCopyWarning: \n",
      "A value is trying to be set on a copy of a slice from a DataFrame\n",
      "\n",
      "See the caveats in the documentation: https://pandas.pydata.org/pandas-docs/stable/user_guide/indexing.html#returning-a-view-versus-a-copy\n",
      "SettingWithCopyWarning: \n",
      "A value is trying to be set on a copy of a slice from a DataFrame\n",
      "\n",
      "See the caveats in the documentation: https://pandas.pydata.org/pandas-docs/stable/user_guide/indexing.html#returning-a-view-versus-a-copy\n",
      "DeprecationWarning: HTTPResponse.getheader() is deprecated and will be removed in urllib3 v2.1.0. Instead use HTTPResponse.headers.get(name, default).\n"
     ]
    },
    {
     "name": "stdout",
     "output_type": "stream",
     "text": [
      "Updating Feature Table: |██████████████████████████████████████████████████| 100% Complete\n",
      "\n",
      "Updating Feature Table: |██████████████████████████████████████████████████| 100% Complete\n",
      "\n"
     ]
    }
   ],
   "source": [
    "client.apply()"
   ]
  },
  {
   "cell_type": "markdown",
   "id": "8cdf3e4c",
   "metadata": {},
   "source": [
    "## Step 7. Register On-Demand Features to Retrieve Relevent Context\n",
    "\n",
    "We'll want to query the embeddings we created and then fetch their related docs and we can do so using Featureform's on-demand feature decorator. This creates a feature that's calculated on the client at serving time."
   ]
  },
  {
   "cell_type": "code",
   "execution_count": 52,
   "id": "1a9fb88f",
   "metadata": {},
   "outputs": [],
   "source": [
    "@ff.ondemand_feature(variant=\"calhacks\")\n",
    "def relevent_comments(client, params, entity):\n",
    "    from sentence_transformers import SentenceTransformer\n",
    "\n",
    "    model = SentenceTransformer(\"all-MiniLM-L6-v2\")\n",
    "    search_vector = model.encode(params[\"query\"])\n",
    "    res = client.nearest(\"comment_embeddings\", \"v2\", search_vector, k=3)\n",
    "    return res"
   ]
  },
  {
   "cell_type": "code",
   "execution_count": 54,
   "id": "392ebd00",
   "metadata": {},
   "outputs": [
    {
     "name": "stdout",
     "output_type": "stream",
     "text": [
      "Applying Run: quizzical_wiles\n",
      "Creating provider local-mode \n"
     ]
    },
    {
     "data": {
      "text/plain": [
       "array([['Sam Ramji_00:06:20.590_MLOps Weekly - Sam.mp3.csv',\n",
       "        'Simba Khadder_00:13:31.630_MLOps Weekly - Liran Hason.mp3.csv',\n",
       "        'Simba Khadder_00:07:02.820_MLOps Weekly - Liran Hason.mp3.csv']],\n",
       "      dtype='<U61')"
      ]
     },
     "execution_count": 54,
     "metadata": {},
     "output_type": "execute_result"
    }
   ],
   "source": [
    "client.apply()\n",
    "client.features([(\"relevent_comments\", \"calhacks\")], {}, params={\"query\": \"enterprise MLOps\"})"
   ]
  },
  {
   "cell_type": "code",
   "execution_count": 57,
   "id": "9a1d378c",
   "metadata": {},
   "outputs": [],
   "source": [
    "@ff.ondemand_feature(variant=\"calhack\")\n",
    "def contextualized_prompt(client, params, entity):\n",
    "    pks = client.features([(\"relevent_comments\", \"calhacks\")], {}, params=params)\n",
    "    prompt = \"Use the following snippets from our podcast to answer the following question\\n\"\n",
    "    for pk in pks[0]:\n",
    "        prompt += \"```\"\n",
    "        prompt += client.features([(\"comments\", \"v2\")], {\"speaker\": pk})[0]\n",
    "        prompt += \"```\\n\"\n",
    "    prompt += \"Question: \"\n",
    "    prompt += params[\"query\"]\n",
    "    prompt += \"?\"\n",
    "    return prompt\n"
   ]
  },
  {
   "cell_type": "code",
   "execution_count": 58,
   "id": "98708b08",
   "metadata": {},
   "outputs": [
    {
     "name": "stdout",
     "output_type": "stream",
     "text": [
      "Applying Run: quizzical_wiles\n",
      "Resource ondemand_feature already registered.\n",
      "Creating provider local-mode \n",
      "Creating ondemand_feature contextualized_prompt  calhack\n",
      "Creating ondemand_feature contextualized_prompt  calhacks\n"
     ]
    },
    {
     "data": {
      "text/plain": [
       "array([\"Use the following snippets from our podcast to answer the following question\\n```The second thing is that MLOps is incredibly valuable because it does create an environment where you can predictably make better decision engines faster. Every business is basically a decision factory.```\\n```I want to zoom out a little bit. You mentioned a bit about the creation of MLOps as a category. I have a similar story where I built a whole MLOps platform for my last company. It wasn't called MLOps. I don't even know what we called it.```\\n```I think a lot of what I've seen, especially in ML, is everyone has such different pain points. If you're doing your vision and you're a large enterprise or you're fraud detection at a startup, problems you face are different. The MLOps vendors you need, or let's say, Observability versus Feature Store, based on what you're doing, you might eventually need both.```\\nQuestion: enterprise MLOps?\"],\n",
       "      dtype='<U927')"
      ]
     },
     "execution_count": 58,
     "metadata": {},
     "output_type": "execute_result"
    }
   ],
   "source": [
    "client.apply()\n",
    "client.features([(\"contextualized_prompt\", \"calhack\")], {}, params={\"query\": \"enterprise MLOps\"})"
   ]
  },
  {
   "cell_type": "markdown",
   "id": "d4a0be59",
   "metadata": {},
   "source": [
    "# Finally we can feed our prompt into OpenAI!"
   ]
  },
  {
   "cell_type": "code",
   "execution_count": 73,
   "id": "70ec45d5",
   "metadata": {},
   "outputs": [
    {
     "name": "stdout",
     "output_type": "stream",
     "text": [
      "Applying Run: quizzical_wiles\n",
      "Creating provider local-mode \n",
      "\n",
      "Answer: MLOps testing involves ensuring your models and their inputs remain consistent and accurate over time. This lifecycle management includes tracking data for experimentation, building the model, and then deploying it for use. Additionally, it is important to monitor the input over time to identify if there are any changes or drifts.\n"
     ]
    }
   ],
   "source": [
    "client.apply()\n",
    "q = \"What should I know about MLOps testing\"\n",
    "prompt = client.features([(\"contextualized_prompt\", \"calhack\")], {}, params={\"query\": q})[0]\n",
    "import openai\n",
    "openai.organization = os.getenv(\"OPENAI_ORG\", \"\")\n",
    "openai.api_key = os.getenv(\"OPENAI_KEY\", \"\")\n",
    "print(openai.Completion.create(\n",
    "    model=\"text-davinci-003\",\n",
    "    prompt=prompt,\n",
    "    max_tokens=1000, # The max number of tokens to generate\n",
    "    temperature=1.0 # A measure of randomness\n",
    ")[\"choices\"][0][\"text\"])"
   ]
  }
 ],
 "metadata": {
  "kernelspec": {
   "display_name": "Python 3 (ipykernel)",
   "language": "python",
   "name": "python3"
  },
  "language_info": {
   "codemirror_mode": {
    "name": "ipython",
    "version": 3
   },
   "file_extension": ".py",
   "mimetype": "text/x-python",
   "name": "python",
   "nbconvert_exporter": "python",
   "pygments_lexer": "ipython3",
   "version": "3.11.4"
  }
 },
 "nbformat": 4,
 "nbformat_minor": 5
}
